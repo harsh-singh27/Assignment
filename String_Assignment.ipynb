{
 "cells": [
  {
   "cell_type": "markdown",
   "id": "4a4e52c9-d89d-4255-8fdb-a3480b5bba7f",
   "metadata": {},
   "source": [
    "# 1. How do you concatenate two strings in Python ?"
   ]
  },
  {
   "cell_type": "markdown",
   "id": "49897f52-8d5d-4f6a-8b43-ac4e411060c3",
   "metadata": {},
   "source": [
    "1. Using the + operator "
   ]
  },
  {
   "cell_type": "code",
   "execution_count": 5,
   "id": "e880601e-e006-4129-9cb6-581a4251176c",
   "metadata": {},
   "outputs": [
    {
     "name": "stdout",
     "output_type": "stream",
     "text": [
      "Hello World\n"
     ]
    }
   ],
   "source": [
    "str1 = \"Hello\"\n",
    "str2 = \"World\"\n",
    "result = str1 + \" \" + str2\n",
    "print(result)"
   ]
  },
  {
   "cell_type": "markdown",
   "id": "cc2fd386-d2b7-41ff-86fb-f2604ac8b46b",
   "metadata": {},
   "source": [
    "2. Using f-strings "
   ]
  },
  {
   "cell_type": "code",
   "execution_count": 8,
   "id": "3fa65046-0240-4ef5-b2c8-de94a117db1e",
   "metadata": {},
   "outputs": [
    {
     "name": "stdout",
     "output_type": "stream",
     "text": [
      "Hello World\n"
     ]
    }
   ],
   "source": [
    "str1 = \"Hello\"\n",
    "str2 = \"World\"\n",
    "result = f\"{str1} {str2}\"\n",
    "print(result)"
   ]
  },
  {
   "cell_type": "markdown",
   "id": "01805002-40ee-4a40-a7e0-fc35c03ff872",
   "metadata": {},
   "source": [
    "3. Using join() method"
   ]
  },
  {
   "cell_type": "code",
   "execution_count": 35,
   "id": "d5817ba2-5c2b-4fe1-b697-4227d9e62705",
   "metadata": {},
   "outputs": [
    {
     "name": "stdout",
     "output_type": "stream",
     "text": [
      "Hello World\n"
     ]
    }
   ],
   "source": [
    "#string = [\"Hello\",\"World\"]\n",
    "#result = \" \".join(string)\n",
    "str1 = \"Hello\"\n",
    "str2 = \"World\"\n",
    "result = \" \".join([str1,str2])\n",
    "print(result)"
   ]
  },
  {
   "cell_type": "markdown",
   "id": "c8822548-8a1b-4093-8f05-f3fbbfd70144",
   "metadata": {},
   "source": [
    "4. Using format() method"
   ]
  },
  {
   "cell_type": "code",
   "execution_count": 80,
   "id": "ad74f21c-f00a-4192-9eb3-52b76b911091",
   "metadata": {},
   "outputs": [
    {
     "name": "stdout",
     "output_type": "stream",
     "text": [
      "This is Python\n"
     ]
    }
   ],
   "source": [
    "str1 = \"This\"\n",
    "str2 = \"is\"\n",
    "str3 = \"Python\"\n",
    "result = \"{} {} {}\".format(str1,str2,str3)\n",
    "print(result)"
   ]
  },
  {
   "cell_type": "markdown",
   "id": "854afbe3-d8c6-464d-bb83-caf0a7e5956f",
   "metadata": {},
   "source": [
    "# 2.  What is the difference between the + operator and the join() method for concatenating strings ?"
   ]
  },
  {
   "cell_type": "code",
   "execution_count": 95,
   "id": "1c38fbd7-7276-4cf1-b8cd-ac3b0b5d065a",
   "metadata": {},
   "outputs": [
    {
     "name": "stdout",
     "output_type": "stream",
     "text": [
      "this is Python code\n"
     ]
    }
   ],
   "source": [
    "str1 = \"this\"\n",
    "str2 = \"is\"\n",
    "str3 = \"Python\"\n",
    "str4 = \"code\"\n",
    "#result = str1 + \" \" + str2 + \" \" + str3 + \" \" + str4\n",
    "result = \" \".join([str1,str2,str3,str4])\n",
    "print(result)"
   ]
  },
  {
   "cell_type": "markdown",
   "id": "3e09bacb-ec2c-4f69-9308-071d181483a1",
   "metadata": {},
   "source": [
    "# 3. How do you access individual characters in a string?"
   ]
  },
  {
   "cell_type": "code",
   "execution_count": 161,
   "id": "c9169a93-a56e-4909-93a8-8944062a7372",
   "metadata": {},
   "outputs": [
    {
     "name": "stdout",
     "output_type": "stream",
     "text": [
      "n\n"
     ]
    }
   ],
   "source": [
    "string = \"Python\"\n",
    "#print(string[0:3:1])\n",
    "#print(string[-4:-2:])\n",
    "#print(string[0])\n",
    "print(string[-1])"
   ]
  },
  {
   "cell_type": "markdown",
   "id": "9202a7d9-002d-4640-b66d-577525d4eac3",
   "metadata": {},
   "source": [
    "# 4. What method is used to find the length of a string in Python?\n"
   ]
  },
  {
   "cell_type": "markdown",
   "id": "6bd0bfa7-53a6-49b8-b33f-0832a0ceb652",
   "metadata": {},
   "source": [
    "len()"
   ]
  },
  {
   "cell_type": "code",
   "execution_count": 165,
   "id": "1fb9845f-c8ea-4f33-8b03-da2bdb8c125c",
   "metadata": {},
   "outputs": [
    {
     "name": "stdout",
     "output_type": "stream",
     "text": [
      "20\n"
     ]
    }
   ],
   "source": [
    "string = \"This is my institute\"\n",
    "print(len(string))"
   ]
  },
  {
   "cell_type": "markdown",
   "id": "b9ef55a7-3f62-4b8a-b74a-b77e9f13453f",
   "metadata": {},
   "source": [
    "# 5. How can you convert a string to uppercase in Python?"
   ]
  },
  {
   "cell_type": "markdown",
   "id": "8c46b40f-535a-46d1-a36d-36845eb0e738",
   "metadata": {},
   "source": [
    "Using upper() function"
   ]
  },
  {
   "cell_type": "code",
   "execution_count": 169,
   "id": "62d3b82e-d383-4691-a235-18db1ce6e70e",
   "metadata": {},
   "outputs": [
    {
     "name": "stdout",
     "output_type": "stream",
     "text": [
      "THIS IS PYTHON\n"
     ]
    }
   ],
   "source": [
    "string = \"this is python\"\n",
    "print(string.upper())"
   ]
  },
  {
   "cell_type": "markdown",
   "id": "a3a2903f-80f4-4e08-98b7-ae93de621c2e",
   "metadata": {},
   "source": [
    "# 6. How can you convert a string to lowercase in Python?"
   ]
  },
  {
   "cell_type": "markdown",
   "id": "f6edfcc7-9595-4a7c-80f1-418163e088c4",
   "metadata": {},
   "source": [
    "Using lower() function"
   ]
  },
  {
   "cell_type": "code",
   "execution_count": 173,
   "id": "89174baa-2e32-42b3-8f75-a32eab305e41",
   "metadata": {},
   "outputs": [
    {
     "name": "stdout",
     "output_type": "stream",
     "text": [
      "this is python code\n"
     ]
    }
   ],
   "source": [
    "string = \"THIS IS PYTHON CODE\"\n",
    "print(string.lower())"
   ]
  },
  {
   "cell_type": "markdown",
   "id": "eba14ef8-43e9-4fb3-ad3c-96bf10c68a5f",
   "metadata": {},
   "source": [
    "# 7. What method is used to replace substrings within a string?"
   ]
  },
  {
   "cell_type": "markdown",
   "id": "938bc769-4a1e-4128-8439-1b64530201a7",
   "metadata": {},
   "source": [
    "Using replace() method "
   ]
  },
  {
   "cell_type": "code",
   "execution_count": 182,
   "id": "da4f95e3-3edb-46bb-95f7-e4b4771044c9",
   "metadata": {},
   "outputs": [
    {
     "name": "stdout",
     "output_type": "stream",
     "text": [
      "orange orange orange apple apple\n"
     ]
    }
   ],
   "source": [
    "#string = \"Python is fun. Python is powerful\"\n",
    "#result = string.replace(\"Python\",\"Programming\")\n",
    "#print(result)\n",
    "\n",
    "fruits = \"apple apple apple apple apple\"\n",
    "result = fruits.replace(\"apple\",\"orange\",3)\n",
    "print(result)"
   ]
  },
  {
   "cell_type": "markdown",
   "id": "a1aabee4-eeca-400f-8a75-7d2c6f6d8113",
   "metadata": {},
   "source": [
    "# 8. How can you split a string into a list of substrings based on a delimiter?"
   ]
  },
  {
   "cell_type": "markdown",
   "id": "70623f2b-b24d-48b1-827d-6e2a7e97fb10",
   "metadata": {},
   "source": [
    "Using split() "
   ]
  },
  {
   "cell_type": "code",
   "execution_count": 230,
   "id": "06ec04e9-7cf6-4100-bd19-77099bef7cdd",
   "metadata": {},
   "outputs": [
    {
     "name": "stdout",
     "output_type": "stream",
     "text": [
      "['apple', 'banana', 'cherry,grape,guava']\n"
     ]
    }
   ],
   "source": [
    "# string = \"apple,banana,cherry\"\n",
    "# result = string.split(\",\")\n",
    "# print(result)\n",
    "\n",
    "# string = \"Python is amazing\"\n",
    "# result = string.split(\",\")\n",
    "# print(result)\n",
    "\n",
    "# string = \"Python is amazing\"\n",
    "# result = string.split(\" \")\n",
    "# print(result)\n",
    "\n",
    "string = \"apple,banana,cherry,grape,guava\"\n",
    "result = string.split(\",\",2)\n",
    "print(result)"
   ]
  },
  {
   "cell_type": "markdown",
   "id": "298b9e13-2ddb-4107-9be5-c0702ebafa15",
   "metadata": {},
   "source": [
    "# 9.  How do you check if a string starts with a particular substring?"
   ]
  },
  {
   "cell_type": "markdown",
   "id": "c3003f20-ec65-4768-a39f-e21126c47e20",
   "metadata": {},
   "source": [
    "Using startswith() function"
   ]
  },
  {
   "cell_type": "code",
   "execution_count": 250,
   "id": "f4d957b0-37ff-458f-b44a-cd366bb776ba",
   "metadata": {},
   "outputs": [
    {
     "name": "stdout",
     "output_type": "stream",
     "text": [
      "True\n"
     ]
    }
   ],
   "source": [
    "string = \"Python\"\n",
    "result = string.startswith(\"P\")\n",
    "print(result)"
   ]
  },
  {
   "cell_type": "markdown",
   "id": "d76dc7ab-2a8d-4060-94c5-687106453284",
   "metadata": {},
   "source": [
    "# 10. How do you check if a string ends with a particular substring?"
   ]
  },
  {
   "cell_type": "markdown",
   "id": "b679ac14-0ee6-44b6-8319-79dbb178dd59",
   "metadata": {},
   "source": [
    "Using endswith() funtion"
   ]
  },
  {
   "cell_type": "code",
   "execution_count": 256,
   "id": "b2c459f4-5cc2-4a5d-8daf-0533aaea3687",
   "metadata": {},
   "outputs": [
    {
     "name": "stdout",
     "output_type": "stream",
     "text": [
      "True\n"
     ]
    }
   ],
   "source": [
    "string = \"Python\"\n",
    "result = string.endswith(\"n\")\n",
    "print(result)"
   ]
  },
  {
   "cell_type": "markdown",
   "id": "9c3893be-f1b7-4bfb-919f-038eae5e95ac",
   "metadata": {},
   "source": [
    "# 11. How can you remove leading and trailing whitespace from a string?"
   ]
  },
  {
   "cell_type": "markdown",
   "id": "e6267b3c-b482-447c-94e5-b64be2c0e5ac",
   "metadata": {},
   "source": [
    "Using strip() method "
   ]
  },
  {
   "cell_type": "code",
   "execution_count": 344,
   "id": "ba30e7c0-a19b-46ac-993b-12cf4ec2c37b",
   "metadata": {},
   "outputs": [
    {
     "name": "stdout",
     "output_type": "stream",
     "text": [
      "Python\n"
     ]
    }
   ],
   "source": [
    "# string = \"   'Hello, Python!'  \" \n",
    "# result = string.strip()\n",
    "# print(result)\n",
    "\n",
    "\n",
    "# lstrip() removes leading whitespaces\n",
    "# string = \"   'Hello, Python!'  \" \n",
    "# result = string.lstrip()\n",
    "# print(result)\n",
    "\n",
    "\n",
    "# rstrip() removes trailing whitespaces\n",
    "# string = \"     'Hello, Python!'     \" \n",
    "# result = string.rstrip()\n",
    "# print(result)\n",
    "\n",
    "\n",
    "#removing specific characters\n",
    "string = \"---Python---\"\n",
    "result = string.strip(\"-\")\n",
    "print(result)"
   ]
  },
  {
   "cell_type": "markdown",
   "id": "70b7195c-6ec9-487f-a722-01edf92bf0fc",
   "metadata": {},
   "source": [
    "# 12. What method is used to find the index of the first occurrence of a substring within a string ?"
   ]
  },
  {
   "cell_type": "markdown",
   "id": "c2fa27d3-c5d5-4b77-a129-08d58eacfa0c",
   "metadata": {},
   "source": [
    "1.Using find()\n",
    "* Returns the index of the first occurence.\n",
    "* If the substring is not found, it returns -1."
   ]
  },
  {
   "cell_type": "code",
   "execution_count": 357,
   "id": "f69c0a7c-12fc-4d05-b0b1-5f12f3f11d46",
   "metadata": {},
   "outputs": [
    {
     "name": "stdout",
     "output_type": "stream",
     "text": [
      "7\n"
     ]
    }
   ],
   "source": [
    "string = \"Python is awesome\"\n",
    "result = string.find(\"is\")\n",
    "print(result)"
   ]
  },
  {
   "cell_type": "markdown",
   "id": "488b1060-daf8-469f-90c7-1332ef9e79bb",
   "metadata": {},
   "source": [
    "2. Using index()\n",
    "* Similar to find(), but raises an error if substring is not found."
   ]
  },
  {
   "cell_type": "code",
   "execution_count": 370,
   "id": "72f6111d-20c4-4b5f-9164-5286abecb1e6",
   "metadata": {},
   "outputs": [
    {
     "name": "stdout",
     "output_type": "stream",
     "text": [
      "10\n"
     ]
    }
   ],
   "source": [
    "string = \"Python is awesome\"\n",
    "result = string.index(\"awesome\")\n",
    "print(result)"
   ]
  },
  {
   "cell_type": "markdown",
   "id": "a68585e0-94cf-42f6-8746-2fd0c1f18e50",
   "metadata": {},
   "source": [
    "# 13. How can you count the number of occurrences of a substring within a string? "
   ]
  },
  {
   "cell_type": "markdown",
   "id": "214b210b-9e2e-489c-9552-966387982185",
   "metadata": {},
   "source": [
    "Using count()"
   ]
  },
  {
   "cell_type": "code",
   "execution_count": 380,
   "id": "99e5b002-fa57-45ed-9014-209348e55ee9",
   "metadata": {},
   "outputs": [
    {
     "name": "stdout",
     "output_type": "stream",
     "text": [
      "0\n"
     ]
    }
   ],
   "source": [
    "# string = \"Python is fun and Python is powerful\"\n",
    "# count = string.count(\"Python\")\n",
    "# print(count)\n",
    "\n",
    "# string = \"Python is fun and Python is powerful\"\n",
    "# count = string.count(\"Python\",10)\n",
    "# print(count)\n",
    "\n",
    "string = \"Python is fun and Python is powerful\"\n",
    "count = string.count(\"Python\",6,14)\n",
    "print(count)"
   ]
  },
  {
   "cell_type": "markdown",
   "id": "84b01f08-e4ce-4339-ba7f-56aabe3665f8",
   "metadata": {},
   "source": [
    "# 14. How do you check if a string contains only alphabetic characters?"
   ]
  },
  {
   "cell_type": "markdown",
   "id": "b054699a-3d12-48fa-b2a2-c2cbb81c64c9",
   "metadata": {},
   "source": [
    "Using isalpha()"
   ]
  },
  {
   "cell_type": "code",
   "execution_count": 31,
   "id": "368172f0-9b9f-4c58-8fc5-801dfac02bbc",
   "metadata": {},
   "outputs": [
    {
     "name": "stdout",
     "output_type": "stream",
     "text": [
      "True\n"
     ]
    }
   ],
   "source": [
    "string = \"Python\"\n",
    "print(string.isalpha())\n",
    "# output - True\n",
    "\n",
    "\n",
    "# string = \"Python12\"\n",
    "# print(string.isalpha())\n",
    "# output - False\n",
    "\n",
    "# string = \"12234\"\n",
    "# print(string.isalpha())\n",
    "# output - False"
   ]
  },
  {
   "cell_type": "markdown",
   "id": "64a9b6ef-7c94-4dcf-bdfb-f339257c77ac",
   "metadata": {},
   "source": [
    "# 15. How do you check if a string contains only numeric characters?"
   ]
  },
  {
   "cell_type": "markdown",
   "id": "1b613c04-c5b8-4503-8a62-7f153c9e1cea",
   "metadata": {},
   "source": [
    "Using isnumeric()"
   ]
  },
  {
   "cell_type": "code",
   "execution_count": 25,
   "id": "dc52a66e-6fd1-4d52-b413-af80964552b6",
   "metadata": {},
   "outputs": [
    {
     "name": "stdout",
     "output_type": "stream",
     "text": [
      "True\n"
     ]
    }
   ],
   "source": [
    "string = \"13232\"\n",
    "print(string.isnumeric())\n",
    "# output - True\n",
    "\n",
    "# string = \"python1233\"\n",
    "# print(string.isnumeric())\n",
    "# output - False\n",
    "\n",
    "# string = \"python\"\n",
    "# print(string.isnumeric())\n",
    "# output - False "
   ]
  },
  {
   "cell_type": "markdown",
   "id": "a4adaf39-71cf-4900-8c8b-1e756fad84fa",
   "metadata": {},
   "source": [
    "# 16. How can you check if a string is a palindrome?"
   ]
  },
  {
   "cell_type": "code",
   "execution_count": 96,
   "id": "026efe08-2624-4408-91e6-cfdc2b7d1949",
   "metadata": {},
   "outputs": [
    {
     "name": "stdin",
     "output_type": "stream",
     "text": [
      "Enter the string: Mam\n"
     ]
    },
    {
     "name": "stdout",
     "output_type": "stream",
     "text": [
      "It is a palindrome string: mam\n"
     ]
    }
   ],
   "source": [
    "string = str(input(\"Enter the string:\"))\n",
    "string = string.replace(\" \",\"\").lower()\n",
    "if string == string[::-1]:\n",
    "    palindrome_string = string[::-1]\n",
    "    print(\"It is a palindrome string:\",palindrome_string)\n",
    "else:\n",
    "    palindrome_string = string[::-1]\n",
    "    print(\"It is not a palindrome string:\",palindrome_string)\n"
   ]
  },
  {
   "cell_type": "markdown",
   "id": "e1f463a4-f5b6-403e-b939-c4c46c9fad31",
   "metadata": {},
   "source": [
    "# 17. How can you reverse a string in Python?"
   ]
  },
  {
   "cell_type": "code",
   "execution_count": 92,
   "id": "d3c49e32-af18-4c87-b4d4-261cc0131a85",
   "metadata": {},
   "outputs": [
    {
     "name": "stdin",
     "output_type": "stream",
     "text": [
      "Original string: 145\n"
     ]
    },
    {
     "name": "stdout",
     "output_type": "stream",
     "text": [
      "Reversed string: 541\n"
     ]
    }
   ],
   "source": [
    "# using slicing and setting the steps value to start from -1 \n",
    "string = input(\"Original string:\")\n",
    "print(\"Reversed string:\",string[::-1])"
   ]
  },
  {
   "attachments": {},
   "cell_type": "markdown",
   "id": "85409948-b514-4b9e-8c6f-005e508d8872",
   "metadata": {},
   "source": [
    "# 18. How do you format a string with placeholders for variable values?"
   ]
  },
  {
   "cell_type": "markdown",
   "id": "120f18b6-1fa8-4892-af7c-0c152378168c",
   "metadata": {},
   "source": [
    "1. First method"
   ]
  },
  {
   "cell_type": "code",
   "execution_count": 104,
   "id": "0b6fb34d-83a8-4f4d-90a2-5caf54df1834",
   "metadata": {},
   "outputs": [
    {
     "name": "stdout",
     "output_type": "stream",
     "text": [
      "Welcome Rajeev.Your age is 19 and Id is 12334\n"
     ]
    }
   ],
   "source": [
    "Name = \"Rajeev\"\n",
    "Age = 19\n",
    "Id = 12334\n",
    "\n",
    "print(\"Welcome %s.Your age is %s and Id is %s\"%(Name,Age,Id))"
   ]
  },
  {
   "cell_type": "markdown",
   "id": "c8475c6c-d3f5-4366-b4f9-b2d7cd9d322b",
   "metadata": {},
   "source": [
    "2. Second method"
   ]
  },
  {
   "cell_type": "code",
   "execution_count": 111,
   "id": "5d916885-9ba8-4133-beb1-eb2a01aadaf0",
   "metadata": {},
   "outputs": [
    {
     "name": "stdout",
     "output_type": "stream",
     "text": [
      "Welcome Raman.Your age is 19 and Id is 13345\n"
     ]
    }
   ],
   "source": [
    "Name = \"Raman\"\n",
    "Age = 29\n",
    "Id = 13345\n",
    "\n",
    "print(\"Welcome {}.Your age is {} and Id is {}\".format(Name,Age,Id))"
   ]
  },
  {
   "cell_type": "markdown",
   "id": "78a6033a-d198-4556-9f34-f59a424c3e53",
   "metadata": {},
   "source": [
    "3. Third method"
   ]
  },
  {
   "cell_type": "code",
   "execution_count": 114,
   "id": "2a2be6d1-2041-4c56-9994-afa59e60ff43",
   "metadata": {},
   "outputs": [
    {
     "name": "stdout",
     "output_type": "stream",
     "text": [
      "Welcome Shubham.Your age is 25 and Id is 14421\n"
     ]
    }
   ],
   "source": [
    "Name = \"Shubham\"\n",
    "Age = 25\n",
    "Id = 14421\n",
    "\n",
    "print(f\"Welcome {Name}.Your age is {Age} and Id is {Id}\")"
   ]
  },
  {
   "cell_type": "markdown",
   "id": "db30da37-19e8-4e74-97e4-9770ec3c04f7",
   "metadata": {},
   "source": [
    "# 19. How do you access a substring of a string using slicing?"
   ]
  },
  {
   "cell_type": "code",
   "execution_count": 175,
   "id": "dadee52e-3e17-474d-9117-b1425e00f20d",
   "metadata": {},
   "outputs": [
    {
     "name": "stdout",
     "output_type": "stream",
     "text": [
      "nohtyP olleH\n"
     ]
    }
   ],
   "source": [
    "# [start:end:step]\n",
    "\n",
    "# string = \"Hello Python\"\n",
    "# print(string[::1])\n",
    "# print(string[0::1])\n",
    "# print(string[0:len(string):1])\n",
    "# print(string[:len(string):1])\n",
    "# output : Hello Python\n",
    "\n",
    "# string = \"Hello Python\"\n",
    "# print(string[::2])\n",
    "# output : HloPto\n",
    "\n",
    "# string = \"Hello Python\"\n",
    "# print(string[0:5:1])\n",
    "# output : Hello\n",
    "\n",
    "# string = \"Hello Python\"\n",
    "# print(string[-3::1])\n",
    "# output :  hon\n",
    "\n",
    "# string = \"Hello Python\"\n",
    "# print(string[:-3:1])\n",
    "# output : Hello Pyt\n",
    "\n",
    "string = \"Hello Python\"\n",
    "print(string[::-1])\n",
    "# output : nohtyP olleH"
   ]
  },
  {
   "cell_type": "markdown",
   "id": "3892f467-0284-48e8-886b-1b5064ea306d",
   "metadata": {},
   "source": [
    "# 20. How can you remove specific characters from a string in Python?"
   ]
  },
  {
   "cell_type": "markdown",
   "id": "cc8d510f-33b7-4d60-b818-90fec10eec60",
   "metadata": {},
   "source": [
    "1. Using strip() "
   ]
  },
  {
   "cell_type": "code",
   "execution_count": 192,
   "id": "a24359a3-fec8-434e-bf65-2dbe00b387da",
   "metadata": {},
   "outputs": [
    {
     "name": "stdout",
     "output_type": "stream",
     "text": [
      "Python\n"
     ]
    }
   ],
   "source": [
    "# string = \"---Python---\"\n",
    "# result = string.strip(\"-\")\n",
    "# print(result)\n",
    "\n",
    "string = \"@@@Python---\"\n",
    "result = string.lstrip(\"@\").rstrip(\"-\")\n",
    "print(result)"
   ]
  },
  {
   "cell_type": "markdown",
   "id": "d8edd0c9-9f95-4b42-b477-4a1f45f7e934",
   "metadata": {},
   "source": [
    "2. Using replace()"
   ]
  },
  {
   "cell_type": "code",
   "execution_count": 184,
   "id": "ef72e7a9-46dd-47ef-bff2-51878ab8e816",
   "metadata": {},
   "outputs": [
    {
     "name": "stdout",
     "output_type": "stream",
     "text": [
      "Hello Python\n"
     ]
    }
   ],
   "source": [
    "string = \"Hello, Python!\"\n",
    "string = string.replace(\",\",\"\").replace(\"!\",\"\")\n",
    "print(string)"
   ]
  },
  {
   "cell_type": "code",
   "execution_count": null,
   "id": "452ac53d-60f4-446a-b2c2-92eb668e94f8",
   "metadata": {},
   "outputs": [],
   "source": []
  },
  {
   "cell_type": "code",
   "execution_count": null,
   "id": "39607c35-bada-46d8-8d6b-ce82cce0a903",
   "metadata": {},
   "outputs": [],
   "source": []
  },
  {
   "cell_type": "code",
   "execution_count": null,
   "id": "469decae-69ab-4bae-a313-40960deee0e3",
   "metadata": {},
   "outputs": [],
   "source": []
  },
  {
   "cell_type": "code",
   "execution_count": null,
   "id": "356599e5-be67-41dd-8d4c-b5db4ec44ec0",
   "metadata": {},
   "outputs": [],
   "source": []
  },
  {
   "cell_type": "code",
   "execution_count": null,
   "id": "2a3fc6d9-e90f-408b-a53f-04385f2cf818",
   "metadata": {},
   "outputs": [],
   "source": []
  },
  {
   "cell_type": "code",
   "execution_count": null,
   "id": "90ead695-bdd7-45ca-b734-c0ff1b81b941",
   "metadata": {},
   "outputs": [],
   "source": []
  },
  {
   "cell_type": "code",
   "execution_count": null,
   "id": "6a6ba406-ab30-47c8-83ae-7cf85217718d",
   "metadata": {},
   "outputs": [],
   "source": []
  },
  {
   "cell_type": "code",
   "execution_count": null,
   "id": "b1b3a2c4-243a-4f06-a1b9-4a638c4fe528",
   "metadata": {},
   "outputs": [],
   "source": []
  },
  {
   "cell_type": "code",
   "execution_count": null,
   "id": "4791287b-1fe9-408f-a850-c0875f103087",
   "metadata": {},
   "outputs": [],
   "source": []
  },
  {
   "cell_type": "code",
   "execution_count": null,
   "id": "e0c913a7-2d15-4b62-8105-8f992507526d",
   "metadata": {},
   "outputs": [],
   "source": []
  },
  {
   "cell_type": "code",
   "execution_count": null,
   "id": "9d328992-bb11-4378-9471-2741d0a711c4",
   "metadata": {},
   "outputs": [],
   "source": []
  },
  {
   "cell_type": "code",
   "execution_count": null,
   "id": "afad12cb-513f-453a-98ec-aa17648761e0",
   "metadata": {},
   "outputs": [],
   "source": []
  },
  {
   "cell_type": "code",
   "execution_count": null,
   "id": "a5275ac0-fc72-4271-8828-385eb317afd2",
   "metadata": {},
   "outputs": [],
   "source": []
  },
  {
   "cell_type": "code",
   "execution_count": null,
   "id": "ea4a87c6-b68d-4e9b-9932-a66c81ccd981",
   "metadata": {},
   "outputs": [],
   "source": []
  },
  {
   "cell_type": "code",
   "execution_count": null,
   "id": "13564ec7-1128-4d3e-bede-f24ca8d54226",
   "metadata": {},
   "outputs": [],
   "source": []
  },
  {
   "cell_type": "code",
   "execution_count": null,
   "id": "de714cf7-873e-472c-8e3e-0a6cc37de0d7",
   "metadata": {},
   "outputs": [],
   "source": []
  },
  {
   "cell_type": "code",
   "execution_count": null,
   "id": "12fd8083-9618-49dd-af1b-3e4b2d27fa76",
   "metadata": {},
   "outputs": [],
   "source": []
  },
  {
   "cell_type": "code",
   "execution_count": null,
   "id": "43b76c97-e604-4411-932a-3e0ae35a8aa5",
   "metadata": {},
   "outputs": [],
   "source": []
  },
  {
   "cell_type": "code",
   "execution_count": null,
   "id": "273239c0-50f3-40f4-9281-8dab98bc86b4",
   "metadata": {},
   "outputs": [],
   "source": []
  },
  {
   "cell_type": "code",
   "execution_count": null,
   "id": "d82dc21a-741e-4a59-9d11-e7331f99c339",
   "metadata": {},
   "outputs": [],
   "source": []
  },
  {
   "cell_type": "code",
   "execution_count": null,
   "id": "ba27a341-1a98-4586-a53b-f09f0b383b07",
   "metadata": {},
   "outputs": [],
   "source": []
  },
  {
   "cell_type": "code",
   "execution_count": null,
   "id": "6e9396a7-c048-4328-b3e5-ade125d416f0",
   "metadata": {},
   "outputs": [],
   "source": []
  },
  {
   "cell_type": "code",
   "execution_count": null,
   "id": "74d4588b-3f2c-426e-9fa7-8a5127852614",
   "metadata": {},
   "outputs": [],
   "source": []
  },
  {
   "cell_type": "code",
   "execution_count": null,
   "id": "a1beb1b1-1e73-4591-93d9-b0b9fa8f3815",
   "metadata": {},
   "outputs": [],
   "source": []
  },
  {
   "cell_type": "code",
   "execution_count": null,
   "id": "47b77efb-e32d-4004-8ac5-dfe1736fe39e",
   "metadata": {},
   "outputs": [],
   "source": []
  },
  {
   "cell_type": "code",
   "execution_count": null,
   "id": "490007ef-ebba-48e1-9a8a-aff75b15ba9e",
   "metadata": {},
   "outputs": [],
   "source": []
  },
  {
   "cell_type": "code",
   "execution_count": null,
   "id": "1f5cbfe5-05d8-43b4-81af-071201cd6b63",
   "metadata": {},
   "outputs": [],
   "source": []
  },
  {
   "cell_type": "code",
   "execution_count": null,
   "id": "0fd3b9d5-5ff3-4670-878e-050843e8b39c",
   "metadata": {},
   "outputs": [],
   "source": []
  },
  {
   "cell_type": "code",
   "execution_count": null,
   "id": "326699e3-f2bc-4038-ab55-d57cb584b3cc",
   "metadata": {},
   "outputs": [],
   "source": []
  },
  {
   "cell_type": "code",
   "execution_count": null,
   "id": "d0133c51-31cd-4920-992b-8b848b712427",
   "metadata": {},
   "outputs": [],
   "source": []
  },
  {
   "cell_type": "code",
   "execution_count": null,
   "id": "a9497629-1d21-4b74-93cc-902ac5e6678a",
   "metadata": {},
   "outputs": [],
   "source": []
  }
 ],
 "metadata": {
  "kernelspec": {
   "display_name": "Python [conda env:base] *",
   "language": "python",
   "name": "conda-base-py"
  },
  "language_info": {
   "codemirror_mode": {
    "name": "ipython",
    "version": 3
   },
   "file_extension": ".py",
   "mimetype": "text/x-python",
   "name": "python",
   "nbconvert_exporter": "python",
   "pygments_lexer": "ipython3",
   "version": "3.12.7"
  }
 },
 "nbformat": 4,
 "nbformat_minor": 5
}
