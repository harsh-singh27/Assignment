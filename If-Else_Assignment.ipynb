{
 "cells": [
  {
   "cell_type": "code",
   "execution_count": null,
   "id": "c1eff946-7a38-4c2b-afb6-bed536e98760",
   "metadata": {},
   "outputs": [],
   "source": [
    "# 2. Write a program to accept the percentage from the user and display the grade according to the following criteria :\n",
    "\n",
    "marks = int(input(\"Enter the marks\"))\n",
    "\n",
    "if marks > 90:\n",
    "    print(\"Grade A\")\n",
    "elif marks > 80 and marks <= 90:\n",
    "    print(\"Grade B\")\n",
    "elif marks > 60 and marks <= 80:\n",
    "    print(\"Grade C\")\n",
    "elif marks <= 60:  \n",
    "    print(\"Grade D\")\n",
    "elif marks < 0 and marks >100:\n",
    "    print(\"Grade \")\n",
    "                "
   ]
  },
  {
   "cell_type": "code",
   "execution_count": null,
   "id": "d74a6e4a-f42e-4051-87a8-6e9f6ff0499d",
   "metadata": {},
   "outputs": [],
   "source": []
  },
  {
   "cell_type": "code",
   "execution_count": 17,
   "id": "aa773c75-aa9e-44b0-aca2-99d2a085d99e",
   "metadata": {},
   "outputs": [
    {
     "name": "stdin",
     "output_type": "stream",
     "text": [
      "Enter age 1 12\n",
      "Enter age 2 13\n",
      "Enter age 3 14\n",
      "Enter age 4 15\n"
     ]
    },
    {
     "name": "stdout",
     "output_type": "stream",
     "text": [
      "age 1 is youngest\n"
     ]
    }
   ],
   "source": [
    "# 3. Accept the age of 4 people and display the youngest one :\n",
    "\n",
    "age1 = int(input(\"Enter age 1\"))\n",
    "age2 = int(input(\"Enter age 2\"))\n",
    "age3 = int(input(\"Enter age 3\"))\n",
    "age4 = int(input(\"Enter age 4\"))\n",
    "\n",
    "youngest = age1\n",
    "if age2 < age1:\n",
    "    print(\"age 2 is youngest\")\n",
    "elif age3 < age1:\n",
    "    print(\"age 3 is youngest\")\n",
    "elif age4 < age1:\n",
    "    print(\"age 4 is youngest\")\n",
    "else:\n",
    "    print(\"age 1 is youngest\")"
   ]
  },
  {
   "cell_type": "code",
   "execution_count": null,
   "id": "09d975ba-3bb8-4faf-8263-bd462faad436",
   "metadata": {},
   "outputs": [],
   "source": []
  },
  {
   "cell_type": "code",
   "execution_count": 37,
   "id": "d2555e5f-118c-4f98-a21e-c667109d683e",
   "metadata": {},
   "outputs": [
    {
     "name": "stdin",
     "output_type": "stream",
     "text": [
      "Enter Salary 50000\n",
      "Enter years of service 5\n"
     ]
    },
    {
     "name": "stdout",
     "output_type": "stream",
     "text": [
      "Your bonus amount is :  2500.0\n"
     ]
    }
   ],
   "source": [
    "# 4.  Print the bonus amount of an employee\n",
    "Employee_Salary = int(input(\"Enter Salary\")) \n",
    "Service_Duration = int(input(\"Enter years of service\"))\n",
    "if Service_Duration > 10:\n",
    "    New_Salary = Employee_Salary * (1 + 0.10 )\n",
    "    Bonus = New_Salary - Employee_Salary\n",
    "    print(\"Your bonus amount is : \",Bonus)\n",
    "elif Service_Duration >= 6:\n",
    "    New_Salary = Employee_Salary * (1  + 0.08)\n",
    "    Bonus = New_Salary - Employee_Salary\n",
    "    print(\"Your bonus amount is : \",Bonus)\n",
    "elif Service_Duration < 6:\n",
    "    New_Salary = Employee_Salary * (1  + 0.05)\n",
    "    Bonus = New_Salary - Employee_Salary\n",
    "    print(\"Your bonus amount is : \",Bonus)"
   ]
  },
  {
   "cell_type": "code",
   "execution_count": null,
   "id": "c3fdfd07-709a-42fe-91aa-df17a9194808",
   "metadata": {},
   "outputs": [],
   "source": []
  },
  {
   "cell_type": "code",
   "execution_count": 43,
   "id": "dcd259fa-9ea4-4d37-9ea5-bf729c2661b8",
   "metadata": {},
   "outputs": [
    {
     "name": "stdin",
     "output_type": "stream",
     "text": [
      "Enter the number 12\n"
     ]
    },
    {
     "name": "stdout",
     "output_type": "stream",
     "text": [
      "Bye\n"
     ]
    }
   ],
   "source": [
    "# 8. If entered number is multiple of 5 then print \"Hello\" otherwise \"Bye\" :\n",
    "\n",
    "number = int(input(\"Enter the number\"))\n",
    "if number % 5 == 0:\n",
    "    print(\"Hello\")\n",
    "else:\n",
    "    print(\"Bye\")"
   ]
  },
  {
   "cell_type": "code",
   "execution_count": null,
   "id": "38742360-1bda-44ad-b6f1-2876860f5f34",
   "metadata": {},
   "outputs": [],
   "source": []
  },
  {
   "cell_type": "code",
   "execution_count": 24,
   "id": "486c6379-bbf9-4707-af0a-8833568a5215",
   "metadata": {},
   "outputs": [
    {
     "name": "stdin",
     "output_type": "stream",
     "text": [
      "Enter the number : 356\n"
     ]
    },
    {
     "name": "stdout",
     "output_type": "stream",
     "text": [
      "It is a three-digit number\n"
     ]
    }
   ],
   "source": [
    "# 10. Write a progarm to check whether the entered number is three-digit number or not :\n",
    "\n",
    "number = str(input(\"Enter the number :\"))\n",
    "#index = len(number)\n",
    "if len(number) == 3:\n",
    "    print(\"It is a three-digit number\")\n",
    "else:\n",
    "    print(\"It is not a three-digit number\")"
   ]
  },
  {
   "cell_type": "code",
   "execution_count": null,
   "id": "631ada61-2740-47f7-ab9f-98ba5c23e318",
   "metadata": {},
   "outputs": [],
   "source": []
  },
  {
   "cell_type": "code",
   "execution_count": 52,
   "id": "9a8c486c-89e2-4b6c-80ae-ab8a1eb36a00",
   "metadata": {},
   "outputs": [
    {
     "name": "stdin",
     "output_type": "stream",
     "text": [
      "Enter the number: 123\n"
     ]
    },
    {
     "name": "stdout",
     "output_type": "stream",
     "text": [
      "Last digit: 3\n",
      "3 is divisible by 3\n"
     ]
    }
   ],
   "source": [
    "# 9. Write a program to check whether the last digit of number (entered by user) is divisible by 3 or not :\n",
    "\n",
    "number = str(input(\"Enter the number:\"))\n",
    "last_digit = int(number[-1])\n",
    "print(\"Last digit:\",last_digit)\n",
    "if last_digit % 3 == 0:\n",
    "    print(last_digit,\"is divisible by 3\")\n",
    "else:\n",
    "    print(last_digit,\"is not divisible by 3\")"
   ]
  },
  {
   "cell_type": "code",
   "execution_count": null,
   "id": "303b02aa-0557-4ebe-a54d-5169a8e41e8b",
   "metadata": {},
   "outputs": [],
   "source": []
  },
  {
   "cell_type": "code",
   "execution_count": null,
   "id": "eed98e5e-407c-4a37-85f0-f9d36ea39380",
   "metadata": {},
   "outputs": [
    {
     "name": "stdout",
     "output_type": "stream",
     "text": [
      "Enter the marks of each subject\n"
     ]
    }
   ],
   "source": [
    "# 7. Accept the marks of subject and display the display the alloted stream :\n",
    "\n",
    "print(\"Enter the marks of each subject\")\n",
    "English = int(input(\"English:\"))\n",
    "Math = int(input(\"Math:\"))\n",
    "Science = int(input(\"Science:\"))\n",
    "Social_Studies = int(input(\"Social Studies:\"))\n",
    "if (English > 80 and English <= 100) and (Math > 80 and Math <= 100) and (Science > 80 and Science <= 100) and (Social_Studies > 80 and Social_Studies <= 100):\n",
    "    print(\"Science Stream\")\n",
    "elif English > 80 and Math > 50 and Science > 50:\n",
    "    print(\"Commerce Stream\")\n",
    "elif English > 80 and Social_Studies > 80:\n",
    "    print(\"Humanities\")"
   ]
  },
  {
   "cell_type": "code",
   "execution_count": null,
   "id": "f44f09e9-86a4-45b9-a890-33693e027af7",
   "metadata": {},
   "outputs": [],
   "source": []
  },
  {
   "cell_type": "code",
   "execution_count": 7,
   "id": "7bc34a23-f5fd-4041-959d-36252aee2565",
   "metadata": {},
   "outputs": [
    {
     "name": "stdin",
     "output_type": "stream",
     "text": [
      "Enter the num 1: 12\n",
      "Enter the num 2: 45\n",
      "Enter the num 3: 86\n"
     ]
    },
    {
     "name": "stdout",
     "output_type": "stream",
     "text": [
      "Second largest number is: 45\n"
     ]
    }
   ],
   "source": [
    "# 5. Accept three numbers from user and display the second largest number :\n",
    "\n",
    "num1 = int(input(\"Enter the num 1:\"))\n",
    "num2 = int(input(\"Enter the num 2:\"))\n",
    "num3 = int(input(\"Enter the num 3:\"))\n",
    "\n",
    "Second_Largest = num1\n",
    "if num1 > num2 and num1 < num3 or num1 > num3 and num1 < num2:\n",
    "    print(\"Second largest number is:\",num1)\n",
    "elif num2 > num1 and num2 < num3 or num2 > num3 and num2 < num1:\n",
    "    print(\"Second largest number is:\",num2)\n",
    "else:\n",
    "    print(\"Second largest number is:\", num3)\n"
   ]
  },
  {
   "cell_type": "code",
   "execution_count": null,
   "id": "c71b1e22-0246-41b8-a528-0d9fff2f7172",
   "metadata": {},
   "outputs": [],
   "source": []
  },
  {
   "cell_type": "code",
   "execution_count": 42,
   "id": "ea82994b-f26e-4060-ac66-a5d7d1892e44",
   "metadata": {},
   "outputs": [
    {
     "name": "stdin",
     "output_type": "stream",
     "text": [
      "Enter the marked price: 6500\n"
     ]
    },
    {
     "name": "stdout",
     "output_type": "stream",
     "text": [
      "Discount: 1300.0\n",
      "Net amount: 7800.0\n"
     ]
    }
   ],
   "source": [
    "# 6. Accept the marked price from the user and calculate the Net amount as (Marked Price - Discount) to pay :\n",
    "# Marked Price                            Discount\n",
    "# >1000                                    20%\n",
    "# >7000 and <=1000                         15%\n",
    "# <=7000                                   10%\n",
    "\n",
    "Marked_Price = int(input(\"Enter the marked price:\"))\n",
    "if Marked_Price > 1000:\n",
    "    Net_Amount = Marked_Price * (1 + 0.2)\n",
    "    Discount = Net_Amount - Marked_Price\n",
    "    print(\"Discount:\",Discount)\n",
    "    print(\"Net amount:\",Net_Amount)\n",
    "elif Marked_Price > 7000 and  Marked_Price <= 1000:\n",
    "    Net_Amount = Marked_Price * (1 + 0.15)\n",
    "    Discount = Net_Amount - Marked_Price\n",
    "    print(\"Discount:\",Discount)\n",
    "    print(\"Net amount:\",Net_Amount)\n",
    "elif Marked_Price <= 7000:\n",
    "    print(\"Discount:\",Discount)\n",
    "    print(\"Net amount:\",Net_Amount)\n",
    "    "
   ]
  },
  {
   "cell_type": "code",
   "execution_count": null,
   "id": "dfffe52b-3820-45e0-beb8-fdae323eb255",
   "metadata": {},
   "outputs": [],
   "source": []
  },
  {
   "cell_type": "code",
   "execution_count": 5,
   "id": "9aee1601-da1f-46a2-bc4b-2176db900572",
   "metadata": {},
   "outputs": [
    {
     "name": "stdin",
     "output_type": "stream",
     "text": [
      "Enter the number of units 350\n"
     ]
    },
    {
     "name": "stdout",
     "output_type": "stream",
     "text": [
      "Total bill amount is Rs 2000\n"
     ]
    }
   ],
   "source": [
    "# 1. Write a program to calculate the electricity bill using only if statement ? (accept number of unit from user) \n",
    "#    according to the following criteria :\n",
    "#    Unit                                   Price\n",
    "#    First 100 units                        no charge\n",
    "#    Next 100 units                         Rs 5 per unit\n",
    "#    After 200 units                        Rs 10 unit\n",
    "\n",
    "units = int(input(\"Enter the number of units\"))\n",
    "bill = 0\n",
    "\n",
    "if units > 200:\n",
    "    bill += (units -  200) * 10\n",
    "    units = 200    # we are changing unit to 200 (if bill is greater than 200, so in both cases if statement will be true (if bill > 200))\n",
    "if units > 100:\n",
    "    bill += (units - 100) * 5\n",
    "\n",
    "print(f\"Total bill amount is Rs {bill}\")"
   ]
  },
  {
   "cell_type": "code",
   "execution_count": null,
   "id": "858d498b-fa84-4257-b460-f8e532dcf498",
   "metadata": {},
   "outputs": [],
   "source": []
  },
  {
   "cell_type": "code",
   "execution_count": null,
   "id": "0a03ec9a-0dd2-4783-83e1-fdfff8b4e5e3",
   "metadata": {},
   "outputs": [],
   "source": []
  },
  {
   "cell_type": "code",
   "execution_count": null,
   "id": "6a7b540f-9e33-45f4-b3be-d7a286c1b821",
   "metadata": {},
   "outputs": [],
   "source": []
  },
  {
   "cell_type": "code",
   "execution_count": null,
   "id": "3d08a942-62e4-4974-a192-1eb2f5a833a2",
   "metadata": {},
   "outputs": [],
   "source": []
  },
  {
   "cell_type": "code",
   "execution_count": null,
   "id": "16296c85-e645-4a67-87c2-ac61db34c63b",
   "metadata": {},
   "outputs": [],
   "source": []
  },
  {
   "cell_type": "code",
   "execution_count": null,
   "id": "dada58a7-abb7-489a-bb3e-74624e1b204a",
   "metadata": {},
   "outputs": [],
   "source": []
  },
  {
   "cell_type": "code",
   "execution_count": null,
   "id": "41882f3c-f299-4690-939c-e97314a8b6ac",
   "metadata": {},
   "outputs": [],
   "source": []
  },
  {
   "cell_type": "code",
   "execution_count": null,
   "id": "f34d5a7b-923a-40de-845b-b25c3a376128",
   "metadata": {},
   "outputs": [],
   "source": []
  },
  {
   "cell_type": "code",
   "execution_count": null,
   "id": "c12b2df7-36c6-49c7-805d-4146427eb41b",
   "metadata": {},
   "outputs": [],
   "source": []
  },
  {
   "cell_type": "code",
   "execution_count": null,
   "id": "4f41cc8e-4170-4feb-afad-d16ae2c5b345",
   "metadata": {},
   "outputs": [],
   "source": []
  },
  {
   "cell_type": "code",
   "execution_count": null,
   "id": "3492c265-f1df-4079-9d27-703215066aab",
   "metadata": {},
   "outputs": [],
   "source": []
  },
  {
   "cell_type": "code",
   "execution_count": null,
   "id": "ab820d9a-066a-43e1-bbbb-5b6ce2cf0d17",
   "metadata": {},
   "outputs": [],
   "source": []
  },
  {
   "cell_type": "code",
   "execution_count": null,
   "id": "05a36f35-3171-4528-9c27-78262d403fc3",
   "metadata": {},
   "outputs": [],
   "source": []
  },
  {
   "cell_type": "code",
   "execution_count": null,
   "id": "9835aa4a-eb3b-44b6-bb25-579f7e3b4bea",
   "metadata": {},
   "outputs": [],
   "source": []
  },
  {
   "cell_type": "code",
   "execution_count": null,
   "id": "e13ae219-69c3-4968-a74f-bfaa95deb7bd",
   "metadata": {},
   "outputs": [],
   "source": []
  },
  {
   "cell_type": "code",
   "execution_count": null,
   "id": "4bc2c7a6-e088-4c8b-ab0c-55142f1d3758",
   "metadata": {},
   "outputs": [],
   "source": []
  },
  {
   "cell_type": "code",
   "execution_count": null,
   "id": "967bb395-d9b3-4bda-be7f-157690eddad4",
   "metadata": {},
   "outputs": [],
   "source": []
  },
  {
   "cell_type": "code",
   "execution_count": null,
   "id": "faf8c38b-a9ee-4d52-8eb0-498bba4b76f9",
   "metadata": {},
   "outputs": [],
   "source": []
  },
  {
   "cell_type": "code",
   "execution_count": null,
   "id": "397a2595-f167-4fb4-b5a1-7feece94cc01",
   "metadata": {},
   "outputs": [],
   "source": []
  },
  {
   "cell_type": "code",
   "execution_count": null,
   "id": "7de0afb4-cb8b-4cc0-b873-708dcfa5f6e2",
   "metadata": {},
   "outputs": [],
   "source": []
  }
 ],
 "metadata": {
  "kernelspec": {
   "display_name": "Python [conda env:base] *",
   "language": "python",
   "name": "conda-base-py"
  },
  "language_info": {
   "codemirror_mode": {
    "name": "ipython",
    "version": 3
   },
   "file_extension": ".py",
   "mimetype": "text/x-python",
   "name": "python",
   "nbconvert_exporter": "python",
   "pygments_lexer": "ipython3",
   "version": "3.12.7"
  }
 },
 "nbformat": 4,
 "nbformat_minor": 5
}
